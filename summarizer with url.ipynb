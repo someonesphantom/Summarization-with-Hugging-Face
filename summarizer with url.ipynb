{
 "cells": [
  {
   "cell_type": "markdown",
   "metadata": {},
   "source": [
    "## Installing Hugging Face Transformers And Dependencies"
   ]
  },
  {
   "cell_type": "code",
   "execution_count": 2,
   "metadata": {},
   "outputs": [],
   "source": [
    "#%pip install transformers"
   ]
  },
  {
   "cell_type": "code",
   "execution_count": 1,
   "metadata": {},
   "outputs": [],
   "source": [
    "from transformers import pipeline\n",
    "from bs4 import BeautifulSoup\n",
    "import requests"
   ]
  },
  {
   "cell_type": "markdown",
   "metadata": {},
   "source": [
    "## Loading the summarization pipeline"
   ]
  },
  {
   "cell_type": "code",
   "execution_count": 2,
   "metadata": {},
   "outputs": [
    {
     "name": "stderr",
     "output_type": "stream",
     "text": [
      "No model was supplied, defaulted to t5-small (https://huggingface.co/t5-small)\n",
      "2022-03-01 23:15:51.413492: I tensorflow/core/platform/cpu_feature_guard.cc:151] This TensorFlow binary is optimized with oneAPI Deep Neural Network Library (oneDNN) to use the following CPU instructions in performance-critical operations:  AVX2 FMA\n",
      "To enable them in other operations, rebuild TensorFlow with the appropriate compiler flags.\n",
      "2022-03-01 23:15:51.432849: W tensorflow/python/util/util.cc:368] Sets are not currently considered sequences, but this may change in the future, so consider avoiding using them.\n",
      "All model checkpoint layers were used when initializing TFT5ForConditionalGeneration.\n",
      "\n",
      "All the layers of TFT5ForConditionalGeneration were initialized from the model checkpoint at t5-small.\n",
      "If your task is similar to the task the model of the checkpoint was trained on, you can already use TFT5ForConditionalGeneration for predictions without further training.\n"
     ]
    }
   ],
   "source": [
    "summarizer = pipeline('summarization')"
   ]
  },
  {
   "cell_type": "markdown",
   "metadata": {},
   "source": [
    "## Getting blog post from a website"
   ]
  },
  {
   "cell_type": "code",
   "execution_count": 3,
   "metadata": {},
   "outputs": [],
   "source": [
    "URL = \"https://ai.stanford.edu/blog/introduction-to-knowledge-graphs/\""
   ]
  },
  {
   "cell_type": "code",
   "execution_count": 4,
   "metadata": {},
   "outputs": [],
   "source": [
    "r = requests.get(URL)"
   ]
  },
  {
   "cell_type": "code",
   "execution_count": 6,
   "metadata": {},
   "outputs": [
    {
     "data": {
      "text/plain": [
       "<Response [200]>"
      ]
     },
     "execution_count": 6,
     "metadata": {},
     "output_type": "execute_result"
    }
   ],
   "source": [
    "r"
   ]
  },
  {
   "cell_type": "code",
   "execution_count": 7,
   "metadata": {},
   "outputs": [],
   "source": [
    "soup = BeautifulSoup(r.text, 'html.parser')\n",
    "results = soup.findAll(['h3','p'])"
   ]
  },
  {
   "cell_type": "code",
   "execution_count": 8,
   "metadata": {},
   "outputs": [
    {
     "data": {
      "text/plain": [
       "[<p class=\"meta\">\n",
       " <a href=\"https://www.linkedin.com/in/vinay-k-chaudhri-849556/\">Vinay K. Chaudhri</a>, <a href=\"https://www.linkedin.com/in/nchittar/\">Naren Chittar</a>, <a href=\"http://logic.stanford.edu/people/genesereth/genesereth.html\">Michael Genesereth</a>\n",
       " <div class=\"post-date\">May 10, 2021</div>\n",
       " </p>,\n",
       " <p>Knowledge Graphs (KGs) have emerged as a compelling abstraction for organizing the world’s structured knowledge, and as a way to integrate information extracted from multiple data sources. Knowledge graphs have started to play a central role in representing the information extracted using natural language processing and computer vision. Domain knowledge expressed in KGs is being input into machine learning models to produce better predictions. Our goals in this blog post are to (a) explain the basic terminology, concepts, and usage of KGs, (b) highlight recent applications of KGs that have led to a surge in their popularity, and (c) situate KGs in the overall landscape of AI. This blog post is a good starting point before reading a more <a href=\"https://arxiv.org/pdf/2003.02320\">extensive survey</a> or following <a href=\"http://cs520.stanford.edu\">research seminars</a> on this topic.</p>,\n",
       " <h3 id=\"knowledge-graph-definition\">Knowledge Graph Definition</h3>,\n",
       " <p>A directed labeled graph is a 4-tuple G = (N, E, L, f), where N is a set of nodes, E ⊆ N × N is a set of edges, L is a set of labels, and f: E→L, is an assignment function from edges to labels. An assignment of a label B to an edge E=(A,C) can be viewed as a triple (A, B, C) and visualized as shown in Figure 1.</p>,\n",
       " <p><img class=\"postimage_75\" src=\"/blog/assets/img/posts/2021-05-10-introduction-to-knowledge-graphs/image3.jpg\"/></p>,\n",
       " <p>A knowledge graph is a directed labeled graph in which we have associated domain specific meanings with nodes and edges. Anything can act as a node, for example, people, company, computer, etc. An edge label captures the relationship of interest between the nodes, for example, a friendship relationship between two people, a customer relationship between a company and person, or a network connection between two computers, etc.</p>,\n",
       " <p>The directed labeled graph representation is used in a variety of ways depending on the needs of an application. A directed labeled graph such as the one in which the nodes are people, and the edges capture the parent relationship is also known as a data graph. A directed labeled graph in which the nodes are classes of objects (e.g., Book, Textbook, etc.), and the edges capture the subclass relationship, is also known as a taxonomy. In some data models, given a triple (A,B,C), we refer to A, B, C as the subject, the predicate, and the object of the triple respectively.</p>,\n",
       " <p>A knowledge graph serves as a data structure in which an application stores information. The information could be added to the knowledge graph through a combination of human input, automated and semi-automated methods. Regardless of the method of knowledge entry, it is expected that the recorded information can be easily understood and verified by humans.</p>,\n",
       " <p>Many interesting computations over a graph can be reduced to navigating it. For example, in a friendship KG, to calculate the friends of friends of a person A, we can navigate the graph from A to all nodes B connected to it by a relation labeled as friend, and then recursively to all nodes C connected by the friend relation to each B.</p>,\n",
       " <h3 id=\"recent-applications-of-knowledge-graphs\">Recent Applications of Knowledge Graphs</h3>,\n",
       " <p>Use of directed labeled graphs as a data structure for storing information, and the use of graph algorithms to manipulate that information is not new. Within computer science, there have been many uses of a directed graph representation, for example, <a href=\"https://www.amazon.com/Compilers-Principles-Techniques-Tools-2nd/dp/0321486811\">data flow graphs</a>, <a href=\"https://citeseerx.ist.psu.edu/viewdoc/download?doi=10.1.1.49.9419&amp;rep=rep1&amp;type=pdf\">binary decision diagrams</a>, <a href=\"https://www.sciencedirect.com/science/article/pii/0167642387900359\">state charts</a>, etc. We consider here two concrete applications that have led to a recent surge in the popularity of knowledge graphs: organizing information over the internet and data integration in enterprises. While discussing these applications, we also highlight what is new and different in the use of knowledge graphs.</p>,\n",
       " <p>Consider the Google search for “Winterthur Zurich” which returns the result shown in the left panel of Figure 2 and a relevant portion from Wikipedia in the panel on the right. The portion of the Wikipedia page shown in the panel on the right is also known as an Infobox.</p>,\n",
       " <p><img class=\"postimage_100\" src=\"/blog/assets/img/posts/2021-05-10-introduction-to-knowledge-graphs/image7.jpg\"/>\n",
       " Figure 2: An example use of a knowledge graph in the results of a web search</p>,\n",
       " <p>As part of the search results, we see facts such as Winterthur is in the country Switzerland, its elevation is 430 meters, etc. This information is directly extracted from the Infoboxes from the Wikipedia page for Winterthur. Some of the data in the Wikipedia Infoboxes is populated by querying a KG called <a href=\"https://www.wikidata.org\">Wikidata</a>. The data from a KG can enhance the web search in even deeper ways than illustrated in the above example, as we next discuss.</p>,\n",
       " <p>The <a href=\"https://en.wikipedia.org/wiki/Winterthur\">Wikipedia page for Winterthur</a> lists its twin towns: two are in Switzerland, one in Czech Republic, and one in Austria. The city of Ontario in California that has a <a href=\"https://en.wikipedia.org/wiki/Ontario,_California\">Wikipedia page titled, Ontario, California</a>, lists Winterthur as its sister city. Sister city and twin city relationships are identical as well as reciprocal. Thus, if a city A is a sister (twin) city of another city B, then B must be a sister (twin) city of A. As “Sister cities” and “Twin towns” are section headings in Wikipedia, with no definition or relationship specified between the two, it is difficult to detect this discrepancy. In contrast, in the <a href=\"https://www.wikidata.org/wiki/Q9125\">Wikidata representation of Winterthur</a>, there is a relationship called <a href=\"https://www.wikidata.org/wiki/Property:P190\">twinned administrative body</a> that lists the city of Ontario. As this relationship is defined to be a symmetric relationship in the KG, the <a href=\"https://www.wikidata.org/wiki/Q488134\">Wikidata page for the city of Ontario</a> automatically includes Winterthur. Wikidata solves the problem of identifying equivalent relationships through the effort of its curators, and by using a KG as a storage and inference mechanism. To the degree the Wikidata KG is fully integrated into Wikipedia, the discrepancies of missing links considered in the example considered here will naturally disappear. We can visualize the two way relationship between Winterthur and Ontario in Figure 3. The KG in Figure 3 also shows other objects to which Winterthur and Ontario are connected.</p>,\n",
       " <p><img class=\"postimage_100\" src=\"/blog/assets/img/posts/2021-05-10-introduction-to-knowledge-graphs/image1.jpg\"/>\n",
       " Figure 3: A fragment of the Wikidata knowledge graph</p>,\n",
       " <p>Wikidata includes data from several independent providers such as the Library of Congress. By using the Wikidata identifier for Winterthur, the information released by the <a href=\"https://id.loc.gov/authorities/names/n50013808.html?\">Library of Congress</a> can be easily linked with other information about Winterthur present in Wikidata. Wikidata makes it easy to establish such links by publishing the definitions of relationships used in it in <a href=\"https://dl.acm.org/doi/pdf/10.1145/2844544\">Schema.Org</a>.</p>,\n",
       " <p>A well-documented list of relations in Schema.Org, also known as the relation vocabulary, gives us, at least, two advantages. First, it is easier to <a href=\"https://link.springer.com/chapter/10.1007/978-3-319-91452-7_48\">write queries that span across multiple datasets</a> because queries can be framed using relations that are common to those sources. Without the usage of such common relationships across multiple sources, we would need to determine semantic relationships between them and provide appropriate translations. One example of a query that goes across multiple sources is: Display on a map the birth cities of people who died in Winterthour? Second, search engines can use such queries to retrieve information from the KG and display the query results as shown in Figure 2. Use of structured information returned in the <a href=\"https://cacm.acm.org/magazines/2019/8/238342-industry-scale-knowledge-graphs/\">search results</a> is now a standard feature for the leading search engines.</p>,\n",
       " <p>A <a href=\"https://www.wikidata.org/wiki/Special:Statistics\">recent version of Wikidata</a> had over 90 million objects, with over one billion relationships among those objects. Wikidata makes connections across over 4872 different catalogs in 414 different languages published by independent data providers. As per a recent estimate, 31% of the websites, and over 12 million data providers are currently using the vocabulary of Schema.Org to publish annotations to their web pages.</p>,\n",
       " <p>What is particularly new and exciting about the Wikidata knowledge graph? First, it is a graph of unprecedented scale, and is one of the largest knowledge graphs available today. Second, even though Wikidata is manually curated, the cost of curation <a href=\"https://dl.acm.org/doi/pdf/10.1145/2872427.2874809\"> is shared by a community</a> of contributors. Third, some of the data in Wikidata may come from <a href=\"http://raphaelhoffmann.com//publications/kdd08.pdf\">automatically extracted information</a>, but it must be easily understood and verified as per the Wikidata editorial policies. Fourth, there is an explicit effort to provide semantic definitions of different relation names through the vocabulary in <a href=\"https://schema.org/\">Schema.Org</a>. Finally, the primary driving use case for Wikidata is to improve the <a href=\"https://cacm.acm.org/magazines/2019/8/238342-industry-scale-knowledge-graphs/\">web search</a>. Even though Wikidata has several applications using it for analysis and visualization, its use over the web continues to be the most compelling and easily understood application.</p>,\n",
       " <p><img class=\"postimage_100\" src=\"/blog/assets/img/posts/2021-05-10-introduction-to-knowledge-graphs/image5.png\"/>\n",
       " Figure 4: 360-degree view of a customer is created by integrating external data with internal company information</p>,\n",
       " <p>Many financial institutions are <a href=\"https://www.youtube.com/watch?v=K583G3Qqiy4\">interested</a> in better managing their customer relationships through a 360-degree view, i.e., a view that integrates external information about a customer with internal information about the same customer. For example, one can integrate publicly available information from financial news, commercially sourced and curated data about supply chain relationships with internal customer information to create such a 360-degree view. To understand how such a view is useful, let us consider an example scenario. Financial news reports that “Acma Retail Inc’’ has filed for bankruptcy due to the pandemic, because of which many of its suppliers will face financial stress. Such stress can pass deep down into its supply chain and trigger financial difficulties for other clients. For example, if a company A who is a supplier for Acma is undergoing financial stress, a similar stress will be experienced by companies who are suppliers of A. Such supply chain relationships are curated as part of a commercially available dataset called <a href=\"http://www.factset.com\">Factset</a>. In a 360-degree view, the data from Factset and the financial news are integrated with the internal customer databases. The resulting KG accurately tracks Acma supply chain, identifies stressed suppliers with different revenue exposure, and identifies companies whose risk may be worth monitoring.</p>,\n",
       " <p><img class=\"postimage_100\" src=\"/blog/assets/img/posts/2021-05-10-introduction-to-knowledge-graphs/image4.jpg\"/></p>,\n",
       " <p>To create the 360-degree view of a customer, the data integration process begins with business analysts sketching out a schema of the key entities, events and the relationships they are interested in tracking. The visual nature of the KG schemas makes it easier for the business experts to engage and specify their requirements. The data from the individual sources is then loaded into a knowledge graph engine. The storage format of triples allows us to translate only those relationships that are of immediate relevance to the schema defined by the business domain experts. Rest of the data can still be loaded as triples but does not require us to incur the upfront cost of relating them into the defined schema. As the KGs use a generic schema of triples, changing requirements during the analysis process are easier to incorporate. Finally, the storage format mirrors the schema that the domain experts define.</p>,\n",
       " <p>What is particularly new and exciting about the use of knowledge graphs for data integration? First, a generic schema of triples substantially reduces the cost of starting with a data integration project.  Second, it is much easier to adapt a triple-based schema in response to changes than the comparable effort required to adapt a traditional relational database. Third, and finally, modern KG engines are highly optimized for answering questions that require traversing the graph relationships in the data. For the example schema of Figure 5, a graph engine has built in operations to identify the central suppliers in a supply chain network, closely related groups of customers or suppliers, and spheres of influence of different suppliers. All of these computations leverage domain-independent graph algorithms such as centrality detection and community detection. Because of ease of creating and visualizing the schema, and the built in analytics operations, KGs are becoming a popular solution for turning data into intelligence.</p>,\n",
       " <h3 id=\"knowledge-graphs-in-artificial-intelligence\">Knowledge Graphs in Artificial Intelligence</h3>,\n",
       " <p>AI agents maintain representations of the real world and use them for reasoning. Coming up with a good representation is a problem central to AI as it allows an agent to store information and derive new conclusions from it. We begin this section by a quick review of the previous work on knowledge representation in AI, situate KGs within that context, and then provide more details about how the modern AI algorithms use KGs to store their output as well as consume them to incorporate domain knowledge.</p>,\n",
       " <p>Knowledge graphs, also known as <a href=\"https://apps.dtic.mil/sti/pdfs/ADA022584.pdf\">semantic networks</a> in the context of AI, have been used as a store of world knowledge for AI agents since the early days of the field, and have been applied in <a href=\"https://citeseerx.ist.psu.edu/viewdoc/download;jsessionid=BA19E284CA21E1209466E31E6FF88E5A?doi=10.1.1.151.207&amp;rep=rep1&amp;type=pdf\">all areas of computer science</a>. There are many other schemes that parallel semantic networks, such as <a href=\"http://www.jfsowa.com/krbook/\">conceptual graphs</a>, <a href=\"https://www.amazon.com/Description-Logic-Handbook-Implementation-Applications/dp/0521150116\">description logics</a>, and <a href=\"https://www.doc.ic.ac.uk/~rak/papers/KELPS%202015.pdf\">rule languages</a>. In some cases, <a href=\"https://www.amazon.com/Probabilistic-Graphical-Models-Principles-Computation/dp/0262013193/\">probabilistic graphical models</a> can capture uncertain knowledge.</p>,\n",
       " <p>A widely known application of approaches that originated from semantic networks is in capturing <a href=\"https://pdfs.semanticscholar.org/5120/f65919f77859a974fcc1ad08f72b2918b8ec.pdf\">ontologies</a>. An ontology is a formal specification of the relationships that are used in a knowledge graph. For example, in Figure 3, the concepts such as City, Country, etc. and relationships such as part of, same as, etc, and their formal definitions constitute an ontology. Using this ontology, we can draw inferences such as Winterthur is located in Switzerland.</p>,\n",
       " <p>To make the internet more intelligent, <a href=\"http://w3.org\">the World Wide Web Consortium</a> (W3C) standardized a family of knowledge representation languages that are now widely used for capturing knowledge on the internet. These languages include the <a href=\"https://www.w3.org/RDF/\">Resource Description Framework</a> (RDF), the <a href=\"https://www.w3.org/OWL\">Web Ontology Language</a>(OWL), and the <a href=\"https://www.w3.org/Submission/SWRL/\">Semantic Web Rule Language</a> (SWRL).</p>,\n",
       " <p>The prior work on knowledge representation in AI that we have just reviewed has been driven in a top-down manner, that is, we first develop a model of the world, and then use reasoning algorithms to draw conclusions from them. Currently, there is a surge of activity on bottom up approaches to AI, that is, developing algorithms that can process the data from which algorithms can draw conclusions and insights. For the rest of the section, we will discuss the role KGs are playing both in storing the learned knowledge, and in providing a source of domain knowledge input to the AI algorithms.</p>,\n",
       " <p>Even though Wikidata has had success in engaging a community of volunteer curators, manual creation of knowledge graphs is, in general, expensive. Therefore, any automation we can achieve for creating a knowledge graph is highly desired. Until a few years ago, both natural language processing (NLP) and computer vision (CV) algorithms were struggling to do well on entity recognition from text and object detection from images. Because of recent progress, these algorithms are starting to move beyond the basic recognition tasks to extracting relationships among objects necessitating a representation in which the extracted relations could be stored for further processing and reasoning. We will now discuss how the automation possible through NLP and CV techniques is facilitating the creation of knowledge graphs.</p>,\n",
       " <p><img class=\"postimage_100\" src=\"/blog/assets/img/posts/2021-05-10-introduction-to-knowledge-graphs/image2.jpg\"/></p>,\n",
       " <p><a href=\"https://web.stanford.edu/~jurafsky/slp3/17.pdf\">Entity extraction and relation extraction</a> from text are two fundamental tasks in NLP. Methods for performing entity and relation extraction include rule-based methods, and machine learning. The rule-based approaches leverage the syntactical structure of the sentence or specify how entities or relationships could be identified in the input text. The machine learning approaches leverage sequence labeling algorithms or language models for both entity and relation extraction.</p>,\n",
       " <p>The extracted information from multiple portions of the text needs to be correlated, and knowledge graphs provide a natural medium to accomplish such a goal. For example, from the sentence shown in Figure 6, we can extract the entities Albert Einstein, Germany, Theoretical Physicist, and Theory of Relativity; and the relations born in, occupation and developed. Once this snippet of knowledge is incorporated into a larger KG, we can use <a href=\"https://www.amazon.com/Introduction-Programming-Synthesis-Artificial-Intelligence/dp/1681737248/\">logical inference</a> to get additional links (shown by dotted edges) such as a Theoretical Physicist is a kind of Physicist who practices Physics, and that Theory of Relativity is a branch of Physics.</p>,\n",
       " <p><img class=\"postimage_100\" src=\"/blog/assets/img/posts/2021-05-10-introduction-to-knowledge-graphs/image6.jpg\"/></p>,\n",
       " <p><a href=\"https://www.amazon.com/Computer-Vision-Modern-Approach-2nd-dp-9332550115/dp/9332550115/\">A holy grail of computer vision</a> is the complete understanding of an image, that is, detecting objects, describing their attributes, and recognizing their relationships. Understanding images would enable important applications such as image search, question answering, and robotic interactions. Much progress has been made in recent years towards this goal, including image classification and object detection. Computer vision algorithms make heavy use of machine learning methods such as classification, clustering, nearest neighbors, and the deep learning methods such as recurrent neural networks.</p>,\n",
       " <p>From the image shown in Figure 7, an <a href=\"https://arxiv.org/pdf/1904.11622.pdf\">image understanding system</a> should produce a KG shown to the right. The nodes in the knowledge graph are the outputs of an object detector. Current research in computer vision focuses on developing techniques that can correctly infer the relationships between the objects, such as, man holding a bucket, and horse feeding from the bucket, etc. The KG shown to the right is an example of a knowledge graph which provides foundation for <a href=\"https://arxiv.org/pdf/1511.03416.pdf\">visual question answering.</a></p>,\n",
       " <p>Machine learning algorithms can perform better if they can incorporate domain knowledge. KGs are a useful data structure for capturing domain knowledge, but machine learning algorithms require that any symbolic or discrete structure, such as a graph, should first be converted into a numerical form. We can convert symbolic inputs into a numerical form using a technique known as <a href=\"https://nlp.stanford.edu/projects/glove/\">embeddings</a>. To illustrate this, we will consider word embeddings and graph embeddings.</p>,\n",
       " <p>Word embeddings were <a href=\"https://arxiv.org/abs/1301.3781\">originally developed</a> for calculating similarity between words. To understand the word embeddings, we consider the following set of sentences.</p>,\n",
       " <p>I like knowledge graphs.</p>,\n",
       " <p>I like databases.</p>,\n",
       " <p>I enjoy running.</p>,\n",
       " <p>In the above set of sentences, we count how often a word appears next to another word and record the counts in a matrix. For example, the word I appears next to the word like twice, and next to the word enjoy once, and therefore, its counts for these two words are 2 and 1 respectively, and 0 for every other word. We can calculate the counts for the other words in a similar manner as shown in Table 1. Such a matrix is often referred to as word co-occurrence counts. The <a href=\"https://www.aclweb.org/anthology/D14-1162.pdf\">meaning</a> of each word is captured by the vector in the row corresponding to that word. To calculate similarity between words, we calculate the similarity between the vectors corresponding to them. In practice, we are interested in text that may contain millions of words, and a more compact representation is desired. As the co-occurrence matrix is sparse, we can use techniques from Linear Algebra (e.g., singular value decomposition) to reduce its dimensions. The resulting vector corresponding to a word is known as its word embedding. Typical word embeddings in use today rely on vectors of length 200.</p>,\n",
       " <p>Table 1: Matrix of co-occurrence counts</p>,\n",
       " <p>A sentence is a sequence of words, and word embeddings calculate co-occurrences of words in it. We can generalize this idea to node embeddings for a graph in the following manner: (a) traverse the graph using a random walk giving us a path through the graph (b) obtain a set of paths through repeated traversals of the graph (c) calculate co-occurrences of nodes on these paths just like we calculated co-occurrences of words in a sentence (d) each row in the matrix of co-occurrence counts give us a vector for the node corresponding to it (e) use suitable dimensionality reduction techniques to obtain a smaller vector which is referred to as a node embedding.</p>,\n",
       " <p>We can encode the whole graph into a vector which is known as its graph embedding. There are many approaches to calculate graph embeddings, but perhaps, the simplest approach is to add the vectors representing node embeddings for each of the nodes in the graph to obtain a vector representing the whole graph.</p>,\n",
       " <p>We used the example of word embeddings as precursor to explaining graph embeddings primarily for pedagogical purposes. Indeed, both have similar objectives: while word embeddings capture the meaning of words and help calculate similarity between them, node embeddings capture the meaning of nodes in a graph and help calculate similarity between them. There is also a great deal of similarity between the methods used for calculating them.</p>,\n",
       " <p>Word embeddings and graph embeddings are a way to give a symbolic input to a machine learning algorithm. A common application of word embeddings is to learn a language model that can predict what word is likely to appear next in a sequence of words. A more advanced application of word embeddings is to use them with a KG – for example, the embedding for a more frequent word could be reused for a less frequent word as long as the knowledge graph encodes that the less frequent word is its hyponym. A straightforward use for the graph embeddings calculated from a friendship graph is to recommend new friends. A more advanced use of graph embedding involves link prediction, for example, in a company graph, we can use link prediction to identify potential new customers.</p>,\n",
       " <h3 id=\"summary\">Summary</h3>,\n",
       " <p>A directed labeled graph is a fundamental construct in discrete mathematics, and has applications in all areas of computer science. Most notable uses of directed labeled graphs in AI and databases have taken the form of data graphs, taxonomies and ontologies. Traditionally, such applications have been small and have been created by a top down design and through manual knowledge engineering.</p>,\n",
       " <p>Distinguishing characteristics of the modern knowledge graphs from the classical knowledge graphs are: scale, bottom up development and multiple modes of construction. The early semantic networks in AI never reached the size and scale of the knowledge graphs that we see today. Difficulty in coming up with a top down schema design for data integration and the data driven nature of machine learning have forced a bottom up methodology for creating the knowledge graphs. Finally, for creating modern knowledge graphs we are supplementing manual knowledge engineering techniques with significant automation and crowdsourcing.</p>,\n",
       " <p>The confluence of the above trends establishes a new importance for the theory and algorithms for classical knowledge graphs. Even when we create a knowledge graph in a bottom up manner, the design of its schema and its semantic definition are still important. While automation may speed up some steps for creating a knowledge graph, manual validation and human oversight are still essential. This synergy sets up an exciting uncharted frontier for jointly leveraging classical knowledge graph techniques and modern tools of machine learning, crowdsourcing, and scalable computing.</p>,\n",
       " <p><i class=\"fa fa-tag fa-fw\"></i> Data Integration</p>,\n",
       " <p><i class=\"fa fa-tag fa-fw\"></i> Knowledge Representation</p>,\n",
       " <p><i class=\"fa fa-tag fa-fw\"></i> NLP</p>,\n",
       " <p><i class=\"fa fa-tag fa-fw\"></i> Search</p>,\n",
       " <p><i class=\"fa fa-tag fa-fw\"></i> Vision</p>,\n",
       " <p>Previous post</p>,\n",
       " <p>Next post</p>,\n",
       " <p class=\"text\">© 2021 Stanford AI Lab\n",
       " </p>]"
      ]
     },
     "execution_count": 8,
     "metadata": {},
     "output_type": "execute_result"
    }
   ],
   "source": [
    "results"
   ]
  },
  {
   "cell_type": "code",
   "execution_count": 9,
   "metadata": {},
   "outputs": [],
   "source": [
    "text = [result.text for result in results]\n",
    "article = ' '.join(text)"
   ]
  },
  {
   "cell_type": "markdown",
   "metadata": {},
   "source": [
    "## Data preprocessing"
   ]
  },
  {
   "cell_type": "code",
   "execution_count": 12,
   "metadata": {},
   "outputs": [],
   "source": [
    "#making the sentances\n",
    "article = article.replace('.','.<eos>')\n",
    "article = article.replace('!','!<eos>')\n",
    "article = article.replace('?','?<eos>')\n",
    "sentences = article.split('<eos>')"
   ]
  },
  {
   "cell_type": "code",
   "execution_count": 14,
   "metadata": {},
   "outputs": [
    {
     "name": "stdout",
     "output_type": "stream",
     "text": [
      "0\n"
     ]
    }
   ],
   "source": [
    "#chuncking the text\n",
    "max_chunk = 500\n",
    "current_chunk = 0\n",
    "chunks=[]\n",
    "for sentence in sentences:\n",
    "    if len(chunks) == current_chunk + 1: \n",
    "        if len(chunks[current_chunk]) + len(sentence.split(' ')) <= max_chunk:\n",
    "            chunks[current_chunk].extend(sentence.split(' '))\n",
    "        else:\n",
    "            current_chunk += 1\n",
    "            chunks.append(sentence.split(' '))\n",
    "    else:\n",
    "        print(current_chunk)\n",
    "        chunks.append(sentence.split(' '))\n",
    "\n",
    "for chunk_id in range(len(chunks)):\n",
    "    chunks[chunk_id] = ' '.join(chunks[chunk_id])"
   ]
  },
  {
   "cell_type": "code",
   "execution_count": 15,
   "metadata": {},
   "outputs": [
    {
     "data": {
      "text/plain": [
       "481"
      ]
     },
     "execution_count": 15,
     "metadata": {},
     "output_type": "execute_result"
    }
   ],
   "source": [
    "len(chunks[1].split(' '))"
   ]
  },
  {
   "cell_type": "markdown",
   "metadata": {},
   "source": [
    "## Summarizing "
   ]
  },
  {
   "cell_type": "code",
   "execution_count": 16,
   "metadata": {},
   "outputs": [
    {
     "name": "stderr",
     "output_type": "stream",
     "text": [
      "Token indices sequence length is longer than the specified maximum sequence length for this model (641 > 512). Running this sequence through the model will result in indexing errors\n"
     ]
    }
   ],
   "source": [
    "summary = summarizer(chunks,max_length=100,min_length=30,do_sample=False)"
   ]
  },
  {
   "cell_type": "code",
   "execution_count": 17,
   "metadata": {},
   "outputs": [
    {
     "data": {
      "text/plain": [
       "'knowledge graphs have emerged as a compelling abstraction for organizing the world’s structured knowledge . KGs are being input into machine learning models to produce better predictions . this blog post is a good starting point before reading a more extensive survey or following research seminars . the use of directed labeled graphs as a data structure has led to a recent surge in the popularity of knowledge graphs . a google search for “Winterthur Zurich” returns the result shown in the left panel of Figure 2 and a relevant portion from Wikipedia in the panel on the right is also known as an Infobox . a fragment of the Wikidata knowledge graph includes data from several independent providers such as the Library of Congress . the KG in Figure 3 shows other objects to which Winterthur and Ontario are connected . a well-documented list of relations in Schema gives us two advantages . a 360-degree view of a customer is created by integrating external data with internal company information . a generic schema of triples substantially reduces the cost of starting with a data integration project . KG engines are highly optimized for answering questions that require traversing the graph relationships in the data . a graph engine has built in operations to identify the central suppliers in a supply chain network, closely related groups of customers or suppliers, and spheres of influence of different suppliers . knowledge Graphs in artificial intelligence agents maintain representations of the real world and use them for reasoning . KGs are developing algorithms that can process the data from which algorithms can draw conclusions and insights . this is because of recent progress, these algorithms are starting to move beyond the basic recognition tasks to extract relationships among objects . the machine learning approaches leverage sequence labeling algorithms or language models for both entity and relation extraction from text . KGs are a useful data structure for capturing domain knowledge . but machine learning algorithms require that any symbolic or discrete structure, such as a graph, should first be converted into a numerical form . to understand the word embeddings, we consider the following set of sentences . we can encode the whole graph into a vector known as its graph embedding . we can use suitable dimensionality reduction techniques to obtain a smaller vector which is known as a node embedder . the simplest approach is to add the vectors representing nodes for each of the nodes in the graph to obtain an vector representing the entire graph . the confluence of the above trends establishes a new importance for the theory and algorithms for classical knowledge graphs . manual validation and human oversight are still essential for creating a knowledge graph in a bottom up manner .'"
      ]
     },
     "execution_count": 17,
     "metadata": {},
     "output_type": "execute_result"
    }
   ],
   "source": [
    "' '.join([summ['summary_text'] for summ in summary])"
   ]
  },
  {
   "cell_type": "markdown",
   "metadata": {},
   "source": [
    "## Into file"
   ]
  },
  {
   "cell_type": "code",
   "execution_count": null,
   "metadata": {},
   "outputs": [],
   "source": [
    "text = ' '.join([summ['summary_text'] for summ in res])\n",
    "with open('blogsummary.txt', 'w') as f:\n",
    "    f.write(text)"
   ]
  }
 ],
 "metadata": {
  "kernelspec": {
   "display_name": "Python 3",
   "language": "python",
   "name": "python3"
  },
  "language_info": {
   "codemirror_mode": {
    "name": "ipython",
    "version": 3
   },
   "file_extension": ".py",
   "mimetype": "text/x-python",
   "name": "python",
   "nbconvert_exporter": "python",
   "pygments_lexer": "ipython3",
   "version": "3.9.7"
  }
 },
 "nbformat": 4,
 "nbformat_minor": 2
}
